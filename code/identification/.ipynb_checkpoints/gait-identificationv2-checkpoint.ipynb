{
 "cells": [
  {
   "cell_type": "code",
   "execution_count": 1,
   "metadata": {},
   "outputs": [
    {
     "name": "stdout",
     "output_type": "stream",
     "text": [
      "Num GPUs Available:  0\n"
     ]
    },
    {
     "data": {
      "text/plain": [
       "'2.3.1'"
      ]
     },
     "execution_count": 1,
     "metadata": {},
     "output_type": "execute_result"
    }
   ],
   "source": [
    "import tensorflow as tf\n",
    "import numpy as np\n",
    "print(\"Num GPUs Available: \", len(tf.config.experimental.list_physical_devices('GPU')))\n",
    "tf.__version__"
   ]
  },
  {
   "cell_type": "code",
   "execution_count": null,
   "metadata": {},
   "outputs": [],
   "source": [
    "model_lstm = tf.keras.models.Sequential(layers=[\n",
    "])\n",
    "\n",
    "# output = featLSTM"
   ]
  },
  {
   "cell_type": "code",
   "execution_count": null,
   "metadata": {},
   "outputs": [],
   "source": [
    "for layer in model_lstm.layers:\n",
    "    print(layer.output_shape)"
   ]
  },
  {
   "cell_type": "code",
   "execution_count": 14,
   "metadata": {},
   "outputs": [],
   "source": [
    "model_cnn = tf.keras.models.Sequential(layers=[\n",
    "    tf.keras.layers.Conv2D(32, [1, 9], activation='relu', padding='same', input_shape=(6,64,32)),\n",
    "    tf.keras.layers.MaxPooling2D(pool_size=[1, 2], strides=[1,2], padding='same'),\n",
    "    tf.keras.layers.Conv2D(64, [1, 3], activation='relu', padding='same'),\n",
    "    tf.keras.layers.Conv2D(128, [1, 3], activation='relu', padding='same'),\n",
    "    tf.keras.layers.MaxPooling2D(pool_size=[1, 2], strides=[1,2], padding='same'),\n",
    "    tf.keras.layers.Conv2D(128, [6, 1], activation='sigmoid'),\n",
    "    tf.keras.layers.Flatten()\n",
    "])\n",
    "\n",
    "# output = featCNN"
   ]
  },
  {
   "cell_type": "code",
   "execution_count": 15,
   "metadata": {},
   "outputs": [
    {
     "name": "stdout",
     "output_type": "stream",
     "text": [
      "(None, 6, 64, 32)\n",
      "(None, 6, 32, 32)\n",
      "(None, 6, 32, 64)\n",
      "(None, 6, 32, 128)\n",
      "(None, 6, 16, 128)\n",
      "(None, 1, 16, 128)\n",
      "(None, 2048)\n"
     ]
    }
   ],
   "source": [
    "for layer in model_cnn.layers:\n",
    "    print(layer.output_shape)"
   ]
  },
  {
   "cell_type": "code",
   "execution_count": null,
   "metadata": {},
   "outputs": [],
   "source": [
    "\n",
    "# output = featFULL"
   ]
  }
 ],
 "metadata": {
  "kernelspec": {
   "display_name": "Python 3",
   "language": "python",
   "name": "python3"
  },
  "language_info": {
   "codemirror_mode": {
    "name": "ipython",
    "version": 3
   },
   "file_extension": ".py",
   "mimetype": "text/x-python",
   "name": "python",
   "nbconvert_exporter": "python",
   "pygments_lexer": "ipython3",
   "version": "3.8.6"
  }
 },
 "nbformat": 4,
 "nbformat_minor": 4
}
